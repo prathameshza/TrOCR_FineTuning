{
 "cells": [
  {
   "cell_type": "markdown",
   "metadata": {},
   "source": [
    "## Note\n",
    "Make sure to download model.safetensors from [kaggle](https://www.kaggle.com/code/prathmeshzade/trocr-hi/output) from model folder to this model_weights folder.\n"
   ]
  },
  {
   "cell_type": "code",
   "execution_count": 1,
   "metadata": {},
   "outputs": [],
   "source": [
    "!pip install -q evaluate datasets jiwer transformers accelerate wandb"
   ]
  },
  {
   "cell_type": "code",
   "execution_count": 2,
   "metadata": {},
   "outputs": [
    {
     "data": {
      "text/plain": [
       "'2.4.1+cpu'"
      ]
     },
     "execution_count": 2,
     "metadata": {},
     "output_type": "execute_result"
    }
   ],
   "source": [
    "import torch\n",
    "torch.__version__"
   ]
  },
  {
   "cell_type": "code",
   "execution_count": 3,
   "metadata": {},
   "outputs": [
    {
     "name": "stdout",
     "output_type": "stream",
     "text": [
      "Using device: cpu\n"
     ]
    }
   ],
   "source": [
    "# check if cuda is available\n",
    "device = torch.device('cuda' if torch.cuda.is_available() else 'cpu')\n",
    "print('Using device:', device)"
   ]
  },
  {
   "cell_type": "code",
   "execution_count": 4,
   "metadata": {},
   "outputs": [
    {
     "name": "stderr",
     "output_type": "stream",
     "text": [
      "d:\\Python_Programs\\env\\Lib\\site-packages\\torchvision\\transforms\\v2\\_deprecated.py:42: UserWarning: The transform `ToTensor()` is deprecated and will be removed in a future release. Instead, please use `v2.Compose([v2.ToImage(), v2.ToDtype(torch.float32, scale=True)])`.Output is equivalent up to float precision.\n",
      "  warnings.warn(\n"
     ]
    }
   ],
   "source": [
    "from torchvision.transforms import v2\n",
    "from PIL import Image\n",
    "import matplotlib.pyplot as plt\n",
    "from torchvision.transforms.functional import InterpolationMode\n",
    "# define transforms we are going to use RandomPerspective for our ocr model\n",
    "# we are using transforms to avoid overfitting and to make our model more robust\n",
    "\n",
    "train_transform = transforms = v2.Compose([\n",
    "    v2.ElasticTransform(alpha=8.0, sigma=5.0, interpolation=InterpolationMode.BILINEAR, fill=0),\n",
    "    v2.GaussianBlur(kernel_size=(5, 9), sigma=(0.1, 5.)),\n",
    "    v2.Resize((384,384)),\n",
    "    v2.ToTensor(),\n",
    "    v2.Normalize([0.5,0.5,0.5], [0.5,0.5,0.5]),\n",
    "])\n",
    "\n",
    "eval_transform = transforms = v2.Compose([\n",
    "    # v2.Pad([80,364], padding_mode='constant', fill=244),\n",
    "    v2.Resize((384,384)),\n",
    "    v2.ToTensor(),\n",
    "    v2.Normalize([0.5,0.5,0.5], [0.5,0.5,0.5]),\n",
    "])\n",
    "\n",
    "# img=Image.open('/kaggle/input/hindi-ocr-synthetic-line-image-text-pair/data_80k/output_images/1.png')"
   ]
  },
  {
   "cell_type": "code",
   "execution_count": 9,
   "metadata": {},
   "outputs": [
    {
     "data": {
      "image/jpeg": "[encoded data removed]",
      "image/png": "[encoded data removed]",
      "text/plain": [
       "<PIL.Image.Image image mode=RGB size=515x55>"
      ]
     },
     "execution_count": 9,
     "metadata": {},
     "output_type": "execute_result"
    }
   ],
   "source": [
    "import requests\n",
    "from io import StringIO\n",
    "img=Image.open(\"./sample_img/train_img.png\").convert(\"RGB\")\n",
    "img"
   ]
  },
  {
   "cell_type": "code",
   "execution_count": 10,
   "metadata": {},
   "outputs": [
    {
     "name": "stdout",
     "output_type": "stream",
     "text": [
      "चली तो अकेली ही थी, कारवां बढ़ता गया..\n",
      "tensor([[  101,   101,   870, 15658, 21042,   851, 38150, 15658, 14080, 15837,\n",
      "           117, 11081, 11549, 28960, 14018,   887, 89027, 13537, 14242,   119,\n",
      "           119,   102]])\n"
     ]
    }
   ],
   "source": [
    "import torch\n",
    "import torchvision.transforms as v2\n",
    "from transformers import VisionEncoderDecoderModel, AutoProcessor\n",
    "model = VisionEncoderDecoderModel.from_pretrained(\"./model_weights\")\n",
    "\n",
    "processor = AutoProcessor.from_pretrained(\"./model_weights\")\n",
    "# device = torch.device('cpu')\n",
    "model= model.to(device)\n",
    "model.eval()\n",
    "transform = v2.Compose([\n",
    "    v2.Resize((384,384)),\n",
    "    v2.ToTensor(),\n",
    "    v2.Normalize([0.5, 0.5, 0.5], [0.5, 0.5, 0.5]),\n",
    "])\n",
    "img_t = transform(img).unsqueeze(0)\n",
    "# p = processor(img, return_tensors=\"pt\").pixel_values\n",
    "p= img_t.to(device)\n",
    "\n",
    "generated_ids = model.generate(p)\n",
    "generated_text = processor.batch_decode(generated_ids, skip_special_tokens=True)[0]\n",
    "print(generated_text)\n",
    "print(generated_ids)"
   ]
  }
 ],
 "metadata": {
  "kernelspec": {
   "display_name": "env",
   "language": "python",
   "name": "python3"
  },
  "language_info": {
   "codemirror_mode": {
    "name": "ipython",
    "version": 3
   },
   "file_extension": ".py",
   "mimetype": "text/x-python",
   "name": "python",
   "nbconvert_exporter": "python",
   "pygments_lexer": "ipython3",
   "version": "3.12.7"
  }
 },
 "nbformat": 4,
 "nbformat_minor": 2
}
